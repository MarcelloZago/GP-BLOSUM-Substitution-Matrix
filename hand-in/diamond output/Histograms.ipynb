{
 "cells": [
  {
   "cell_type": "code",
   "execution_count": 1,
   "id": "4315bf42",
   "metadata": {},
   "outputs": [],
   "source": [
    "import pandas as pd\n",
    "import matplotlib.pyplot as plt \n",
    "import numpy as np"
   ]
  },
  {
   "cell_type": "code",
   "execution_count": 2,
   "id": "8f6418dc",
   "metadata": {},
   "outputs": [],
   "source": [
    "# column names for the DIAMOND output\n",
    "names = ['query accession', 'target accession', 'sequence identity', 'length', 'mismatches', 'gap openings', 'query start',\n",
    "          'query end', 'target start', 'target end', 'e-value', 'bit score']\n",
    "\n",
    "df_blosum = pd.read_csv('Alphaproteobacteria_bacterium_blosum62.tsv', sep='\\t', names=names)\n",
    "df_our = pd.read_csv('Alphaproteobacteria_bacterium_our_62.tsv', sep='\\t', names=names)"
   ]
  },
  {
   "cell_type": "code",
   "execution_count": 3,
   "id": "d719cbc8",
   "metadata": {},
   "outputs": [
    {
     "data": {
      "text/html": [
       "<div>\n",
       "<style scoped>\n",
       "    .dataframe tbody tr th:only-of-type {\n",
       "        vertical-align: middle;\n",
       "    }\n",
       "\n",
       "    .dataframe tbody tr th {\n",
       "        vertical-align: top;\n",
       "    }\n",
       "\n",
       "    .dataframe thead th {\n",
       "        text-align: right;\n",
       "    }\n",
       "</style>\n",
       "<table border=\"1\" class=\"dataframe\">\n",
       "  <thead>\n",
       "    <tr style=\"text-align: right;\">\n",
       "      <th></th>\n",
       "      <th>query accession</th>\n",
       "      <th>target accession</th>\n",
       "      <th>sequence identity</th>\n",
       "      <th>length</th>\n",
       "      <th>mismatches</th>\n",
       "      <th>gap openings</th>\n",
       "      <th>query start</th>\n",
       "      <th>query end</th>\n",
       "      <th>target start</th>\n",
       "      <th>target end</th>\n",
       "      <th>e-value</th>\n",
       "      <th>bit score</th>\n",
       "    </tr>\n",
       "  </thead>\n",
       "  <tbody>\n",
       "    <tr>\n",
       "      <th>0</th>\n",
       "      <td>RYZ01612</td>\n",
       "      <td>Q0C1A3.1</td>\n",
       "      <td>90.0</td>\n",
       "      <td>30</td>\n",
       "      <td>3</td>\n",
       "      <td>0</td>\n",
       "      <td>1</td>\n",
       "      <td>30</td>\n",
       "      <td>1</td>\n",
       "      <td>30</td>\n",
       "      <td>1.130000e-11</td>\n",
       "      <td>58.6</td>\n",
       "    </tr>\n",
       "    <tr>\n",
       "      <th>1</th>\n",
       "      <td>RYZ01612</td>\n",
       "      <td>Q0APU7.1</td>\n",
       "      <td>86.7</td>\n",
       "      <td>30</td>\n",
       "      <td>4</td>\n",
       "      <td>0</td>\n",
       "      <td>1</td>\n",
       "      <td>30</td>\n",
       "      <td>1</td>\n",
       "      <td>30</td>\n",
       "      <td>8.390000e-11</td>\n",
       "      <td>56.2</td>\n",
       "    </tr>\n",
       "    <tr>\n",
       "      <th>2</th>\n",
       "      <td>RYZ01612</td>\n",
       "      <td>B4RBX6.1</td>\n",
       "      <td>83.3</td>\n",
       "      <td>30</td>\n",
       "      <td>5</td>\n",
       "      <td>0</td>\n",
       "      <td>1</td>\n",
       "      <td>30</td>\n",
       "      <td>1</td>\n",
       "      <td>30</td>\n",
       "      <td>1.150000e-10</td>\n",
       "      <td>55.8</td>\n",
       "    </tr>\n",
       "    <tr>\n",
       "      <th>3</th>\n",
       "      <td>RYZ01612</td>\n",
       "      <td>Q9A724.2</td>\n",
       "      <td>83.3</td>\n",
       "      <td>30</td>\n",
       "      <td>5</td>\n",
       "      <td>0</td>\n",
       "      <td>1</td>\n",
       "      <td>30</td>\n",
       "      <td>1</td>\n",
       "      <td>30</td>\n",
       "      <td>1.180000e-10</td>\n",
       "      <td>55.8</td>\n",
       "    </tr>\n",
       "    <tr>\n",
       "      <th>4</th>\n",
       "      <td>RYZ01612</td>\n",
       "      <td>B0SYZ8.1</td>\n",
       "      <td>80.0</td>\n",
       "      <td>30</td>\n",
       "      <td>6</td>\n",
       "      <td>0</td>\n",
       "      <td>1</td>\n",
       "      <td>30</td>\n",
       "      <td>1</td>\n",
       "      <td>30</td>\n",
       "      <td>4.370000e-10</td>\n",
       "      <td>54.2</td>\n",
       "    </tr>\n",
       "  </tbody>\n",
       "</table>\n",
       "</div>"
      ],
      "text/plain": [
       "  query accession target accession  sequence identity  length  mismatches  \\\n",
       "0        RYZ01612         Q0C1A3.1               90.0      30           3   \n",
       "1        RYZ01612         Q0APU7.1               86.7      30           4   \n",
       "2        RYZ01612         B4RBX6.1               83.3      30           5   \n",
       "3        RYZ01612         Q9A724.2               83.3      30           5   \n",
       "4        RYZ01612         B0SYZ8.1               80.0      30           6   \n",
       "\n",
       "   gap openings  query start  query end  target start  target end  \\\n",
       "0             0            1         30             1          30   \n",
       "1             0            1         30             1          30   \n",
       "2             0            1         30             1          30   \n",
       "3             0            1         30             1          30   \n",
       "4             0            1         30             1          30   \n",
       "\n",
       "        e-value  bit score  \n",
       "0  1.130000e-11       58.6  \n",
       "1  8.390000e-11       56.2  \n",
       "2  1.150000e-10       55.8  \n",
       "3  1.180000e-10       55.8  \n",
       "4  4.370000e-10       54.2  "
      ]
     },
     "execution_count": 3,
     "metadata": {},
     "output_type": "execute_result"
    }
   ],
   "source": [
    "df_blosum.head()"
   ]
  },
  {
   "cell_type": "code",
   "execution_count": 4,
   "id": "881749b0",
   "metadata": {},
   "outputs": [
    {
     "data": {
      "text/html": [
       "<div>\n",
       "<style scoped>\n",
       "    .dataframe tbody tr th:only-of-type {\n",
       "        vertical-align: middle;\n",
       "    }\n",
       "\n",
       "    .dataframe tbody tr th {\n",
       "        vertical-align: top;\n",
       "    }\n",
       "\n",
       "    .dataframe thead th {\n",
       "        text-align: right;\n",
       "    }\n",
       "</style>\n",
       "<table border=\"1\" class=\"dataframe\">\n",
       "  <thead>\n",
       "    <tr style=\"text-align: right;\">\n",
       "      <th></th>\n",
       "      <th>query accession</th>\n",
       "      <th>target accession</th>\n",
       "      <th>sequence identity</th>\n",
       "      <th>length</th>\n",
       "      <th>mismatches</th>\n",
       "      <th>gap openings</th>\n",
       "      <th>query start</th>\n",
       "      <th>query end</th>\n",
       "      <th>target start</th>\n",
       "      <th>target end</th>\n",
       "      <th>e-value</th>\n",
       "      <th>bit score</th>\n",
       "    </tr>\n",
       "  </thead>\n",
       "  <tbody>\n",
       "    <tr>\n",
       "      <th>0</th>\n",
       "      <td>RYZ01612</td>\n",
       "      <td>Q0C1A3.1</td>\n",
       "      <td>90.0</td>\n",
       "      <td>30</td>\n",
       "      <td>3</td>\n",
       "      <td>0</td>\n",
       "      <td>1</td>\n",
       "      <td>30</td>\n",
       "      <td>1</td>\n",
       "      <td>30</td>\n",
       "      <td>4.790000e-09</td>\n",
       "      <td>49.4</td>\n",
       "    </tr>\n",
       "    <tr>\n",
       "      <th>1</th>\n",
       "      <td>RYZ01612</td>\n",
       "      <td>Q0APU7.1</td>\n",
       "      <td>86.7</td>\n",
       "      <td>30</td>\n",
       "      <td>4</td>\n",
       "      <td>0</td>\n",
       "      <td>1</td>\n",
       "      <td>30</td>\n",
       "      <td>1</td>\n",
       "      <td>30</td>\n",
       "      <td>3.170000e-08</td>\n",
       "      <td>47.4</td>\n",
       "    </tr>\n",
       "    <tr>\n",
       "      <th>2</th>\n",
       "      <td>RYZ01612</td>\n",
       "      <td>B8EK86.1</td>\n",
       "      <td>83.3</td>\n",
       "      <td>30</td>\n",
       "      <td>5</td>\n",
       "      <td>0</td>\n",
       "      <td>1</td>\n",
       "      <td>30</td>\n",
       "      <td>1</td>\n",
       "      <td>30</td>\n",
       "      <td>6.850000e-08</td>\n",
       "      <td>46.5</td>\n",
       "    </tr>\n",
       "    <tr>\n",
       "      <th>3</th>\n",
       "      <td>RYZ01612</td>\n",
       "      <td>B4RBX6.1</td>\n",
       "      <td>83.3</td>\n",
       "      <td>30</td>\n",
       "      <td>5</td>\n",
       "      <td>0</td>\n",
       "      <td>1</td>\n",
       "      <td>30</td>\n",
       "      <td>1</td>\n",
       "      <td>30</td>\n",
       "      <td>9.290000e-08</td>\n",
       "      <td>46.1</td>\n",
       "    </tr>\n",
       "    <tr>\n",
       "      <th>4</th>\n",
       "      <td>RYZ01612</td>\n",
       "      <td>Q9A724.2</td>\n",
       "      <td>83.3</td>\n",
       "      <td>30</td>\n",
       "      <td>5</td>\n",
       "      <td>0</td>\n",
       "      <td>1</td>\n",
       "      <td>30</td>\n",
       "      <td>1</td>\n",
       "      <td>30</td>\n",
       "      <td>9.720000e-08</td>\n",
       "      <td>46.1</td>\n",
       "    </tr>\n",
       "  </tbody>\n",
       "</table>\n",
       "</div>"
      ],
      "text/plain": [
       "  query accession target accession  sequence identity  length  mismatches  \\\n",
       "0        RYZ01612         Q0C1A3.1               90.0      30           3   \n",
       "1        RYZ01612         Q0APU7.1               86.7      30           4   \n",
       "2        RYZ01612         B8EK86.1               83.3      30           5   \n",
       "3        RYZ01612         B4RBX6.1               83.3      30           5   \n",
       "4        RYZ01612         Q9A724.2               83.3      30           5   \n",
       "\n",
       "   gap openings  query start  query end  target start  target end  \\\n",
       "0             0            1         30             1          30   \n",
       "1             0            1         30             1          30   \n",
       "2             0            1         30             1          30   \n",
       "3             0            1         30             1          30   \n",
       "4             0            1         30             1          30   \n",
       "\n",
       "        e-value  bit score  \n",
       "0  4.790000e-09       49.4  \n",
       "1  3.170000e-08       47.4  \n",
       "2  6.850000e-08       46.5  \n",
       "3  9.290000e-08       46.1  \n",
       "4  9.720000e-08       46.1  "
      ]
     },
     "execution_count": 4,
     "metadata": {},
     "output_type": "execute_result"
    }
   ],
   "source": [
    "df_our.head()"
   ]
  },
  {
   "cell_type": "code",
   "execution_count": 5,
   "id": "66d43450",
   "metadata": {},
   "outputs": [],
   "source": [
    "def generate_histogram_comparison(feature: str, bins: int, log: bool) -> None:\n",
    "    ''' Get the actual values '''\n",
    "    e_values_blosum = df_blosum[feature].to_numpy()\n",
    "    e_values_our = df_our[feature].to_numpy()\n",
    "    \n",
    "    ''' Generate the bins '''\n",
    "    min_val = min(np.amin(e_values_blosum), np.amin(e_values_our))\n",
    "    max_val = max(np.amax(e_values_blosum), np.amax(e_values_our))\n",
    "\n",
    "    bins = np.linspace(min_val, max_val, bins+1)\n",
    "    \n",
    "    ''' Generate the two histograms '''\n",
    "    plt.hist(e_values_blosum, bins=bins, alpha=0.5, density=True, log=log, label='BLOSUM', edgecolor='grey', color='mediumseagreen')\n",
    "    plt.hist(e_values_our, bins=bins, alpha=0.5, density=True, log=log, label='Our matrix', edgecolor='grey', color='mediumorchid')\n",
    "    \n",
    "    ''' Beautify the overall plot '''\n",
    "    plt.legend()\n",
    "    plt.ylabel('density')\n",
    "    plt.xlabel(feature)"
   ]
  },
  {
   "cell_type": "code",
   "execution_count": 6,
   "id": "b325ff63",
   "metadata": {},
   "outputs": [
    {
     "data": {
      "image/png": "[encoded data removed]",
      "text/plain": [
       "<Figure size 432x288 with 1 Axes>"
      ]
     },
     "metadata": {
      "needs_background": "light"
     },
     "output_type": "display_data"
    }
   ],
   "source": [
    "generate_histogram_comparison('length', 30, log=True) "
   ]
  },
  {
   "cell_type": "code",
   "execution_count": 7,
   "id": "5076bfab",
   "metadata": {},
   "outputs": [
    {
     "data": {
      "image/png": "[encoded data removed]",
      "text/plain": [
       "<Figure size 432x288 with 1 Axes>"
      ]
     },
     "metadata": {
      "needs_background": "light"
     },
     "output_type": "display_data"
    }
   ],
   "source": [
    "generate_histogram_comparison('mismatches', 30, log=True)"
   ]
  },
  {
   "cell_type": "code",
   "execution_count": 8,
   "id": "a4705335",
   "metadata": {},
   "outputs": [
    {
     "data": {
      "image/png": "[encoded data removed]",
      "text/plain": [
       "<Figure size 432x288 with 1 Axes>"
      ]
     },
     "metadata": {
      "needs_background": "light"
     },
     "output_type": "display_data"
    }
   ],
   "source": [
    "generate_histogram_comparison('gap openings', 30, log=True)"
   ]
  }
 ],
 "metadata": {
  "kernelspec": {
   "display_name": "Python 3 (ipykernel)",
   "language": "python",
   "name": "python3"
  },
  "language_info": {
   "codemirror_mode": {
    "name": "ipython",
    "version": 3
   },
   "file_extension": ".py",
   "mimetype": "text/x-python",
   "name": "python",
   "nbconvert_exporter": "python",
   "pygments_lexer": "ipython3",
   "version": "3.7.11"
  }
 },
 "nbformat": 4,
 "nbformat_minor": 5
}
